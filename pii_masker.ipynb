{
  "nbformat": 4,
  "nbformat_minor": 0,
  "metadata": {
    "colab": {
      "provenance": []
    },
    "kernelspec": {
      "name": "python3",
      "display_name": "Python 3"
    },
    "language_info": {
      "name": "python"
    }
  },
  "cells": [
    {
      "cell_type": "code",
      "execution_count": null,
      "metadata": {
        "id": "uKigbOK56uII"
      },
      "outputs": [],
      "source": [
        "import spacy"
      ]
    },
    {
      "cell_type": "code",
      "source": [
        "nlp = spacy.load(\"en_core_web_sm\")"
      ],
      "metadata": {
        "id": "urhfmIKr6zLe"
      },
      "execution_count": null,
      "outputs": []
    },
    {
      "cell_type": "code",
      "source": [
        "import re"
      ],
      "metadata": {
        "id": "OYaX1zXe6_J5"
      },
      "execution_count": null,
      "outputs": []
    },
    {
      "cell_type": "code",
      "source": [
        "PII_PATTERNS = {\n",
        "    \"EMAIL\": r\"\\b[\\w\\.-]+@[\\w\\.-]+\\.\\w{2,4}\\b\",\n",
        "    \"PHONE\": r\"\\b(?:\\+1[-.\\s]?|1[-.\\s]?)?\\(?\\d{3}\\)?[-.\\s]?\\d{3}[-.\\s]?\\d{4}\\b\"\n",
        "}\n",
        "\n",
        "NER_LABELS = [\"PERSON\", \"GPE\", \"ORG\", \"DATE\"]"
      ],
      "metadata": {
        "id": "YSWRGK2uD-Xa"
      },
      "execution_count": null,
      "outputs": []
    },
    {
      "cell_type": "code",
      "source": [
        "def mask_pii(text):\n",
        "\n",
        "  pii_spans = []\n",
        "  for label, pattern in PII_PATTERNS.items():\n",
        "    for match in re.finditer(pattern, text):\n",
        "        pii_spans.append((match.start(), match.end(), label))\n",
        "\n",
        "\n",
        "  doc = nlp(text)\n",
        "\n",
        "  for ent in doc.ents:\n",
        "      if ent.label_ in NER_LABELS:\n",
        "          pii_spans.append((ent.start_char, ent.end_char, ent.label_))\n",
        "\n",
        "  pii_spans.sort()\n",
        "\n",
        "  masked_text = \"\"\n",
        "  last_idx = 0\n",
        "\n",
        "  for start, end, label in pii_spans:\n",
        "      # Önceki parçayı ekle\n",
        "      masked_text += text[last_idx:start]\n",
        "      # Maske etiketi ekle\n",
        "      masked_text += f\"[{label}]\"\n",
        "      # İmleci ileri taşı\n",
        "      last_idx = end\n",
        "\n",
        "  masked_text += text[last_idx:]\n",
        "\n",
        "  return masked_text"
      ],
      "metadata": {
        "id": "7LlA6PeC7RBl"
      },
      "execution_count": null,
      "outputs": []
    },
    {
      "cell_type": "code",
      "source": [
        "text = \"\"\"\n",
        "Hi, I'm Sarah Johnson and I work at Microsoft in Seattle.\n",
        "I was born in 1988 and graduated from Stanford University.\n",
        "You can reach me at sarah.johnson@example.com or call me at +1 555 123 4567.\n",
        "\"\"\""
      ],
      "metadata": {
        "id": "7st2Eosv7Sgq"
      },
      "execution_count": null,
      "outputs": []
    },
    {
      "cell_type": "code",
      "source": [
        "print(\"🔒 Masked Text:\\n\")\n",
        "print(mask_pii(text))"
      ],
      "metadata": {
        "colab": {
          "base_uri": "https://localhost:8080/"
        },
        "id": "urvPkCwG9jIt",
        "outputId": "b71a178a-5615-4a48-f787-2fcdc2634c37"
      },
      "execution_count": null,
      "outputs": [
        {
          "output_type": "stream",
          "name": "stdout",
          "text": [
            "🔒 Masked Text:\n",
            "\n",
            "\n",
            "Hi, I'm [PERSON] and I work at [ORG] in [GPE]. \n",
            "I was born in [DATE] and graduated from [ORG].\n",
            "You can reach me at [EMAIL] or call me at +[PHONE].\n",
            "\n"
          ]
        }
      ]
    },
    {
      "cell_type": "code",
      "source": [],
      "metadata": {
        "id": "OhwrTJ7q9kR0"
      },
      "execution_count": null,
      "outputs": []
    }
  ]
}